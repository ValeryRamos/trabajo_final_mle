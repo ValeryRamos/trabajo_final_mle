{
 "cells": [
  {
   "cell_type": "markdown",
   "id": "642263df",
   "metadata": {
    "papermill": {
     "duration": 0.005388,
     "end_time": "2024-01-28T08:06:53.153349",
     "exception": false,
     "start_time": "2024-01-28T08:06:53.147961",
     "status": "completed"
    },
    "tags": []
   },
   "source": [
    "## ***Binary Classification with a Bank Churn Dataset- Kaggle 2024 Playground Series Competition***"
   ]
  },
  {
   "cell_type": "markdown",
   "id": "41250756",
   "metadata": {
    "papermill": {
     "duration": 0.004503,
     "end_time": "2024-01-28T08:06:53.162883",
     "exception": false,
     "start_time": "2024-01-28T08:06:53.158380",
     "status": "completed"
    },
    "tags": []
   },
   "source": [
    "***If you are participating or going to participate in Kaggle [Binary Classification with a Bank Churn Dataset](https://www.kaggle.com/competitions/playground-series-s4e1) playground series competition, you can use this notebook for this notebook for submitting predictions.  You can also change the code accordingly to get more precision predictions.***"
   ]
  },
  {
   "cell_type": "markdown",
   "id": "feb5be34",
   "metadata": {
    "papermill": {
     "duration": 0.00484,
     "end_time": "2024-01-28T08:06:53.172478",
     "exception": false,
     "start_time": "2024-01-28T08:06:53.167638",
     "status": "completed"
    },
    "tags": []
   },
   "source": [
    "### ***1. Importing Libraries***"
   ]
  },
  {
   "cell_type": "code",
   "execution_count": 1,
   "id": "34ba0697",
   "metadata": {
    "execution": {
     "iopub.execute_input": "2024-01-28T08:06:53.183708Z",
     "iopub.status.busy": "2024-01-28T08:06:53.183400Z",
     "iopub.status.idle": "2024-01-28T08:06:55.546232Z",
     "shell.execute_reply": "2024-01-28T08:06:55.545324Z"
    },
    "papermill": {
     "duration": 2.371233,
     "end_time": "2024-01-28T08:06:55.548860",
     "exception": false,
     "start_time": "2024-01-28T08:06:53.177627",
     "status": "completed"
    },
    "tags": []
   },
   "outputs": [
    {
     "name": "stderr",
     "output_type": "stream",
     "text": [
      "/opt/conda/lib/python3.10/site-packages/scipy/__init__.py:146: UserWarning: A NumPy version >=1.16.5 and <1.23.0 is required for this version of SciPy (detected version 1.24.3\n",
      "  warnings.warn(f\"A NumPy version >={np_minversion} and <{np_maxversion}\"\n"
     ]
    }
   ],
   "source": [
    "import pandas as pd\n",
    "from sklearn.model_selection import train_test_split, RandomizedSearchCV, cross_val_score\n",
    "from sklearn.preprocessing import StandardScaler, OneHotEncoder\n",
    "from sklearn.compose import ColumnTransformer\n",
    "from sklearn.pipeline import Pipeline\n",
    "from sklearn.ensemble import RandomForestClassifier\n",
    "from xgboost import XGBClassifier\n",
    "from scipy.stats import randint, uniform\n"
   ]
  },
  {
   "cell_type": "markdown",
   "id": "6527ce0c",
   "metadata": {
    "papermill": {
     "duration": 0.005231,
     "end_time": "2024-01-28T08:06:55.560468",
     "exception": false,
     "start_time": "2024-01-28T08:06:55.555237",
     "status": "completed"
    },
    "tags": []
   },
   "source": [
    "### ***2. Loading and Preprocessing Data***"
   ]
  },
  {
   "cell_type": "code",
   "execution_count": 2,
   "id": "796ae883",
   "metadata": {
    "execution": {
     "iopub.execute_input": "2024-01-28T08:06:55.572931Z",
     "iopub.status.busy": "2024-01-28T08:06:55.572174Z",
     "iopub.status.idle": "2024-01-28T08:06:56.051521Z",
     "shell.execute_reply": "2024-01-28T08:06:56.050498Z"
    },
    "papermill": {
     "duration": 0.488228,
     "end_time": "2024-01-28T08:06:56.054152",
     "exception": false,
     "start_time": "2024-01-28T08:06:55.565924",
     "status": "completed"
    },
    "tags": []
   },
   "outputs": [],
   "source": [
    "train_data = pd.read_csv(\"/kaggle/input/bank-churn/train.csv\")\n",
    "train_data = train_data.drop(columns=['CustomerId', 'Surname'])\n",
    "\n",
    "\n",
    "X_train = train_data.drop(columns=['Exited'])\n",
    "y_train = train_data['Exited']\n"
   ]
  },
  {
   "cell_type": "code",
   "execution_count": 3,
   "id": "af8f86f9",
   "metadata": {
    "execution": {
     "iopub.execute_input": "2024-01-28T08:06:56.066753Z",
     "iopub.status.busy": "2024-01-28T08:06:56.066121Z",
     "iopub.status.idle": "2024-01-28T08:06:56.086660Z",
     "shell.execute_reply": "2024-01-28T08:06:56.085819Z"
    },
    "papermill": {
     "duration": 0.02866,
     "end_time": "2024-01-28T08:06:56.088706",
     "exception": false,
     "start_time": "2024-01-28T08:06:56.060046",
     "status": "completed"
    },
    "tags": []
   },
   "outputs": [
    {
     "data": {
      "text/html": [
       "<div>\n",
       "<style scoped>\n",
       "    .dataframe tbody tr th:only-of-type {\n",
       "        vertical-align: middle;\n",
       "    }\n",
       "\n",
       "    .dataframe tbody tr th {\n",
       "        vertical-align: top;\n",
       "    }\n",
       "\n",
       "    .dataframe thead th {\n",
       "        text-align: right;\n",
       "    }\n",
       "</style>\n",
       "<table border=\"1\" class=\"dataframe\">\n",
       "  <thead>\n",
       "    <tr style=\"text-align: right;\">\n",
       "      <th></th>\n",
       "      <th>id</th>\n",
       "      <th>CreditScore</th>\n",
       "      <th>Geography</th>\n",
       "      <th>Gender</th>\n",
       "      <th>Age</th>\n",
       "      <th>Tenure</th>\n",
       "      <th>Balance</th>\n",
       "      <th>NumOfProducts</th>\n",
       "      <th>HasCrCard</th>\n",
       "      <th>IsActiveMember</th>\n",
       "      <th>EstimatedSalary</th>\n",
       "      <th>Exited</th>\n",
       "    </tr>\n",
       "  </thead>\n",
       "  <tbody>\n",
       "    <tr>\n",
       "      <th>0</th>\n",
       "      <td>0</td>\n",
       "      <td>668</td>\n",
       "      <td>France</td>\n",
       "      <td>Male</td>\n",
       "      <td>33.0</td>\n",
       "      <td>3</td>\n",
       "      <td>0.0</td>\n",
       "      <td>2</td>\n",
       "      <td>1.0</td>\n",
       "      <td>0.0</td>\n",
       "      <td>181449.97</td>\n",
       "      <td>0</td>\n",
       "    </tr>\n",
       "    <tr>\n",
       "      <th>1</th>\n",
       "      <td>1</td>\n",
       "      <td>627</td>\n",
       "      <td>France</td>\n",
       "      <td>Male</td>\n",
       "      <td>33.0</td>\n",
       "      <td>1</td>\n",
       "      <td>0.0</td>\n",
       "      <td>2</td>\n",
       "      <td>1.0</td>\n",
       "      <td>1.0</td>\n",
       "      <td>49503.50</td>\n",
       "      <td>0</td>\n",
       "    </tr>\n",
       "  </tbody>\n",
       "</table>\n",
       "</div>"
      ],
      "text/plain": [
       "   id  CreditScore Geography Gender   Age  Tenure  Balance  NumOfProducts  \\\n",
       "0   0          668    France   Male  33.0       3      0.0              2   \n",
       "1   1          627    France   Male  33.0       1      0.0              2   \n",
       "\n",
       "   HasCrCard  IsActiveMember  EstimatedSalary  Exited  \n",
       "0        1.0             0.0        181449.97       0  \n",
       "1        1.0             1.0         49503.50       0  "
      ]
     },
     "execution_count": 3,
     "metadata": {},
     "output_type": "execute_result"
    }
   ],
   "source": [
    "train_data.head(2)"
   ]
  },
  {
   "cell_type": "markdown",
   "id": "9f8a8c8b",
   "metadata": {
    "papermill": {
     "duration": 0.005002,
     "end_time": "2024-01-28T08:06:56.099232",
     "exception": false,
     "start_time": "2024-01-28T08:06:56.094230",
     "status": "completed"
    },
    "tags": []
   },
   "source": [
    "### ***3. Preprocessing Steps***"
   ]
  },
  {
   "cell_type": "code",
   "execution_count": 4,
   "id": "4d007c77",
   "metadata": {
    "execution": {
     "iopub.execute_input": "2024-01-28T08:06:56.111489Z",
     "iopub.status.busy": "2024-01-28T08:06:56.111171Z",
     "iopub.status.idle": "2024-01-28T08:06:56.116941Z",
     "shell.execute_reply": "2024-01-28T08:06:56.116125Z"
    },
    "papermill": {
     "duration": 0.014173,
     "end_time": "2024-01-28T08:06:56.118887",
     "exception": false,
     "start_time": "2024-01-28T08:06:56.104714",
     "status": "completed"
    },
    "tags": []
   },
   "outputs": [],
   "source": [
    "numeric_features = ['CreditScore', 'Age', 'Tenure', 'Balance', 'NumOfProducts', 'EstimatedSalary']\n",
    "categorical_features = ['Geography', 'Gender', 'HasCrCard', 'IsActiveMember']\n",
    "\n",
    "numeric_transformer = Pipeline(steps=[\n",
    "    ('scaler', StandardScaler())\n",
    "])\n",
    "\n",
    "categorical_transformer = Pipeline(steps=[\n",
    "    ('onehot', OneHotEncoder(handle_unknown='ignore'))\n",
    "])\n",
    "\n",
    "preprocessor = ColumnTransformer(\n",
    "    transformers=[\n",
    "        ('num', numeric_transformer, numeric_features),\n",
    "        ('cat', categorical_transformer, categorical_features)\n",
    "    ])\n"
   ]
  },
  {
   "cell_type": "markdown",
   "id": "ecca8457",
   "metadata": {
    "papermill": {
     "duration": 0.004875,
     "end_time": "2024-01-28T08:06:56.129094",
     "exception": false,
     "start_time": "2024-01-28T08:06:56.124219",
     "status": "completed"
    },
    "tags": []
   },
   "source": [
    "### ***4. Hyperparameter Tuning for RandomForest***"
   ]
  },
  {
   "cell_type": "code",
   "execution_count": 5,
   "id": "f52cb0d9",
   "metadata": {
    "execution": {
     "iopub.execute_input": "2024-01-28T08:06:56.140650Z",
     "iopub.status.busy": "2024-01-28T08:06:56.140384Z",
     "iopub.status.idle": "2024-01-28T08:28:02.890824Z",
     "shell.execute_reply": "2024-01-28T08:28:02.890022Z"
    },
    "papermill": {
     "duration": 1266.758941,
     "end_time": "2024-01-28T08:28:02.893221",
     "exception": false,
     "start_time": "2024-01-28T08:06:56.134280",
     "status": "completed"
    },
    "tags": []
   },
   "outputs": [],
   "source": [
    "param_dist_rf = {\n",
    "    'classifier__n_estimators': randint(50, 200),\n",
    "    'classifier__max_depth': [None, 10, 20, 30, 40, 50],\n",
    "    'classifier__min_samples_split': randint(2, 20),\n",
    "}\n",
    "\n",
    "rf_model = RandomForestClassifier(random_state=42)\n",
    "rf_pipeline = Pipeline(steps=[('preprocessor', preprocessor),\n",
    "                                ('classifier', rf_model)])\n",
    "\n",
    "rf_random = RandomizedSearchCV(rf_pipeline, param_distributions=param_dist_rf, n_iter=10, cv=5, scoring='accuracy', random_state=42)\n",
    "rf_random.fit(X_train, y_train)\n",
    "best_rf_model = rf_random.best_estimator_\n"
   ]
  },
  {
   "cell_type": "markdown",
   "id": "1a322060",
   "metadata": {
    "papermill": {
     "duration": 0.005144,
     "end_time": "2024-01-28T08:28:02.903971",
     "exception": false,
     "start_time": "2024-01-28T08:28:02.898827",
     "status": "completed"
    },
    "tags": []
   },
   "source": [
    "### ***5. Hyperparameter Tuning for XGBoost***"
   ]
  },
  {
   "cell_type": "code",
   "execution_count": 6,
   "id": "3e4a5e3c",
   "metadata": {
    "execution": {
     "iopub.execute_input": "2024-01-28T08:28:02.915289Z",
     "iopub.status.busy": "2024-01-28T08:28:02.914969Z",
     "iopub.status.idle": "2024-01-28T08:29:05.736915Z",
     "shell.execute_reply": "2024-01-28T08:29:05.736112Z"
    },
    "papermill": {
     "duration": 62.83054,
     "end_time": "2024-01-28T08:29:05.739488",
     "exception": false,
     "start_time": "2024-01-28T08:28:02.908948",
     "status": "completed"
    },
    "tags": []
   },
   "outputs": [],
   "source": [
    "param_dist_xgb = {\n",
    "    'classifier__n_estimators': randint(50, 200),\n",
    "    'classifier__max_depth': [3, 5, 7, 9],\n",
    "    'classifier__learning_rate': uniform(0.01, 0.2),\n",
    "}\n",
    "\n",
    "xgb_model = XGBClassifier(random_state=42)\n",
    "xgb_pipeline = Pipeline(steps=[('preprocessor', preprocessor),\n",
    "                                 ('classifier', xgb_model)])\n",
    "\n",
    "xgb_random = RandomizedSearchCV(xgb_pipeline, param_distributions=param_dist_xgb, n_iter=10, cv=5, scoring='accuracy', random_state=42)\n",
    "xgb_random.fit(X_train, y_train)\n",
    "best_xgb_model = xgb_random.best_estimator_\n"
   ]
  },
  {
   "cell_type": "markdown",
   "id": "316aca90",
   "metadata": {
    "papermill": {
     "duration": 0.005283,
     "end_time": "2024-01-28T08:29:05.751001",
     "exception": false,
     "start_time": "2024-01-28T08:29:05.745718",
     "status": "completed"
    },
    "tags": []
   },
   "source": [
    "### ***6. Evaluating Models***"
   ]
  },
  {
   "cell_type": "code",
   "execution_count": 7,
   "id": "ab020d37",
   "metadata": {
    "execution": {
     "iopub.execute_input": "2024-01-28T08:29:05.762337Z",
     "iopub.status.busy": "2024-01-28T08:29:05.762069Z",
     "iopub.status.idle": "2024-01-28T08:31:26.478323Z",
     "shell.execute_reply": "2024-01-28T08:31:26.477567Z"
    },
    "papermill": {
     "duration": 140.724291,
     "end_time": "2024-01-28T08:31:26.480347",
     "exception": false,
     "start_time": "2024-01-28T08:29:05.756056",
     "status": "completed"
    },
    "tags": []
   },
   "outputs": [
    {
     "name": "stdout",
     "output_type": "stream",
     "text": [
      "RandomForest - Accuracy: 0.8629736918652844 (Std: 0.0014226123747742253)\n",
      "XGBoost - Accuracy: 0.8655670914269604 (Std: 0.001577777392753069)\n"
     ]
    }
   ],
   "source": [
    "models = [\n",
    "    ('RandomForest', best_rf_model),\n",
    "    ('XGBoost', best_xgb_model)\n",
    "]\n",
    "\n",
    "for name, model in models:\n",
    "    scores = cross_val_score(model, X_train, y_train, cv=5, scoring='accuracy')\n",
    "    print(f'{name} - Accuracy: {scores.mean()} (Std: {scores.std()})')\n"
   ]
  },
  {
   "cell_type": "code",
   "execution_count": 8,
   "id": "34e07fff",
   "metadata": {
    "execution": {
     "iopub.execute_input": "2024-01-28T08:31:26.493067Z",
     "iopub.status.busy": "2024-01-28T08:31:26.492810Z",
     "iopub.status.idle": "2024-01-28T08:31:27.395761Z",
     "shell.execute_reply": "2024-01-28T08:31:27.394958Z"
    },
    "papermill": {
     "duration": 0.91135,
     "end_time": "2024-01-28T08:31:27.397997",
     "exception": false,
     "start_time": "2024-01-28T08:31:26.486647",
     "status": "completed"
    },
    "tags": []
   },
   "outputs": [
    {
     "data": {
      "text/plain": [
       "['trained_model.joblib']"
      ]
     },
     "execution_count": 8,
     "metadata": {},
     "output_type": "execute_result"
    }
   ],
   "source": [
    "best_model = best_xgb_model['classifier']  # Access the classifier part of the pipeline\n",
    "full_pipeline = Pipeline(steps=[('preprocessor', preprocessor),\n",
    "                                 ('classifier', best_model)])\n",
    "full_pipeline.fit(X_train, y_train)\n",
    "\n",
    "import joblib\n",
    "# Save the trained model using joblib\n",
    "joblib.dump(full_pipeline, 'trained_model.joblib')"
   ]
  },
  {
   "cell_type": "markdown",
   "id": "fe273f34",
   "metadata": {
    "papermill": {
     "duration": 0.005286,
     "end_time": "2024-01-28T08:31:27.454007",
     "exception": false,
     "start_time": "2024-01-28T08:31:27.448721",
     "status": "completed"
    },
    "tags": []
   },
   "source": [
    "### ***7. Sumbission for Kaggle Competition***"
   ]
  },
  {
   "cell_type": "code",
   "execution_count": 9,
   "id": "89da19d2",
   "metadata": {
    "execution": {
     "iopub.execute_input": "2024-01-28T08:31:27.466466Z",
     "iopub.status.busy": "2024-01-28T08:31:27.466105Z",
     "iopub.status.idle": "2024-01-28T08:31:28.194989Z",
     "shell.execute_reply": "2024-01-28T08:31:28.193983Z"
    },
    "papermill": {
     "duration": 0.737866,
     "end_time": "2024-01-28T08:31:28.197392",
     "exception": false,
     "start_time": "2024-01-28T08:31:27.459526",
     "status": "completed"
    },
    "tags": []
   },
   "outputs": [],
   "source": [
    "import pandas as pd\n",
    "import joblib\n",
    "\n",
    "\n",
    "test_data = pd.read_csv(\"/kaggle/input/bank-churn/test.csv\")  \n",
    "\n",
    "\n",
    "test_ids = test_data['id']\n",
    "\n",
    "\n",
    "test_data = test_data.drop(columns=['CustomerId', 'Surname', 'id'])\n",
    "\n",
    "\n",
    "\n",
    "X_test = test_data\n",
    "\n",
    "\n",
    "loaded_model = joblib.load('/kaggle/working/trained_model.joblib')\n",
    "\n",
    "\n",
    "test_probabilities = loaded_model.predict_proba(X_test)[:, 1]\n",
    "\n",
    "\n",
    "test_result_df = pd.DataFrame({'id': test_ids, 'Exited': test_probabilities})\n",
    "\n",
    "\n",
    "test_result_df.to_csv('sample_submission.csv', index=False)"
   ]
  },
  {
   "cell_type": "code",
   "execution_count": null,
   "id": "23caaac0",
   "metadata": {
    "papermill": {
     "duration": 0.005547,
     "end_time": "2024-01-28T08:31:28.208838",
     "exception": false,
     "start_time": "2024-01-28T08:31:28.203291",
     "status": "completed"
    },
    "tags": []
   },
   "outputs": [],
   "source": []
  }
 ],
 "metadata": {
  "kaggle": {
   "accelerator": "nvidiaTeslaT4",
   "dataSources": [
    {
     "datasetId": 4364894,
     "sourceId": 7496275,
     "sourceType": "datasetVersion"
    }
   ],
   "dockerImageVersionId": 30636,
   "isGpuEnabled": true,
   "isInternetEnabled": true,
   "language": "python",
   "sourceType": "notebook"
  },
  "kernelspec": {
   "display_name": "Python 3",
   "language": "python",
   "name": "python3"
  },
  "language_info": {
   "codemirror_mode": {
    "name": "ipython",
    "version": 3
   },
   "file_extension": ".py",
   "mimetype": "text/x-python",
   "name": "python",
   "nbconvert_exporter": "python",
   "pygments_lexer": "ipython3",
   "version": "3.10.12"
  },
  "papermill": {
   "default_parameters": {},
   "duration": 1479.20097,
   "end_time": "2024-01-28T08:31:28.735790",
   "environment_variables": {},
   "exception": null,
   "input_path": "__notebook__.ipynb",
   "output_path": "__notebook__.ipynb",
   "parameters": {},
   "start_time": "2024-01-28T08:06:49.534820",
   "version": "2.4.0"
  }
 },
 "nbformat": 4,
 "nbformat_minor": 5
}
